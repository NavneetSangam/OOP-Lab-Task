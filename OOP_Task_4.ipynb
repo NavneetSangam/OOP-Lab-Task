{
  "nbformat": 4,
  "nbformat_minor": 0,
  "metadata": {
    "colab": {
      "name": "OOP Task 4",
      "provenance": [],
      "authorship_tag": "ABX9TyNEknjRjX1Oek4aCuMhrc0A",
      "include_colab_link": true
    },
    "kernelspec": {
      "name": "python3",
      "display_name": "Python 3"
    },
    "language_info": {
      "name": "python"
    }
  },
  "cells": [
    {
      "cell_type": "markdown",
      "metadata": {
        "id": "view-in-github",
        "colab_type": "text"
      },
      "source": [
        "<a href=\"https://colab.research.google.com/github/NavneetSangam/OOP-Lab-Task/blob/main/OOP_Task_4.ipynb\" target=\"_parent\"><img src=\"https://colab.research.google.com/assets/colab-badge.svg\" alt=\"Open In Colab\"/></a>"
      ]
    },
    {
      "cell_type": "code",
      "metadata": {
        "id": "IDYCbKNSZ6Xu"
      },
      "source": [
        "#Probllem 1:\n",
        "class Node:\n",
        "  def __init__(self, data):\n",
        "    self.data = data\n",
        "    self.next = None\n",
        "  def __del__(self):\n",
        "    print(self.data, 'deleted successfully.')\n",
        "\n",
        "class Stack:\n",
        "  def __init__(self, data):\n",
        "    self.top = Node(data)\n",
        "    print(self.top.data,'added to the stack.')\n",
        "  \n",
        "  def add(self, data):\n",
        "    new = Node(data)\n",
        "    new.next = self.top\n",
        "    self.top = new\n",
        "    print(self.top.data, 'added to the stack.')\n",
        "  \n",
        "  def remove(self):\n",
        "    try:\n",
        "      del_node = self.top\n",
        "      self.top = self.top.next\n",
        "      del del_node\n",
        "\n",
        "    except AttributeError:\n",
        "      print('Cannot remove any more elements from the stack as it is empty.')\n",
        "\n",
        "  def view(self):\n",
        "    print('\\nThe elements of the stack are : ',sep=' ')\n",
        "    curr_node = self.top\n",
        "    while curr_node.next is not None:\n",
        "      print(curr_node.data, sep=' ')\n",
        "      curr_node = curr_node.next\n",
        "    print(curr_node.data)\n",
        "    print()\n",
        " def is_empty(self):\n",
        "    try:\n",
        "      print('Stack is not empty and it begins with', self.top.data)\n",
        "    except AttributeError:\n",
        "      print('Stack is empty')\n",
        "\n",
        "  def __del__(self):\n",
        "    curr_node = self.top\n",
        "    while curr_node.next is not None:\n",
        "      del_node = curr_node\n",
        "      curr_node = curr_node.next\n",
        "      del del_node\n",
        "    del curr_node\n",
        "    print('Stack deleted.')\n",
        "\n",
        "\n",
        "stack = Stack(4)\n",
        "stack.add('a')\n",
        "stack.add(3)\n",
        "stack.add(2)\n",
        "stack.add(1.4012)\n",
        "stack.add(True)\n",
        "stack.view()\n",
        "stack.is_empty()\n",
        "stack.remove()\n",
        "stack.remove()\n",
        "stack.add('c')\n",
        "stack.view()\n",
        "stack.is_empty()\n",
        "del stack"
      ],
      "execution_count": null,
      "outputs": []
    },
    {
      "cell_type": "code",
      "metadata": {
        "id": "760rOEmuaBPU"
      },
      "source": [
        "#Problem 2:\n",
        "class Rectangle:\n",
        "    def __init__(self):\n",
        "        self.length = 0\n",
        "        self.width = 0\n",
        "\n",
        "    def setData(self, l, b):\n",
        "        self.length = l\n",
        "        self.width = b\n",
        "    \n",
        "    def calcArea(self):\n",
        "        return self.length * self.width\n",
        "\n",
        "class RectangeP:\n",
        "    def __init__(self, l, b):\n",
        "        self.length = l\n",
        "        self.width = b\n",
        "\n",
        "    def calcArea(self):\n",
        "        return self.length * self.width\n",
        "\n",
        "r1 = Rectangle()\n",
        "r1.setData(5, 4)\n",
        "print(f\"Area of default constructor rectange : {r1.calcArea()}\")\n",
        "r2 = RectangeP(10, 12)\n",
        "print(f\"Area of parameterized constructor rectange : {r2.calcArea()}\")"
      ],
      "execution_count": null,
      "outputs": []
    },
    {
      "cell_type": "code",
      "metadata": {
        "id": "1kyjKE2uaBVz"
      },
      "source": [
        "#Problem 3:\n",
        "class Queue:\n",
        "    def __init__(self):\n",
        "        self.queue = []\n",
        "\n",
        "    def isEmpty(self):\n",
        "        return self.queue == []\n",
        "\n",
        "    def enqueue(self, data):\n",
        "        self.queue.append(data)\n",
        "\n",
        "    def dequeue(self):\n",
        "        return self.queue.pop(0)\n",
        "\n",
        "    def displayQueue(self):\n",
        "        print(f\"Queue : {self.queue}\")\n",
        "\n",
        "    def __del__(self):\n",
        "        print(\"Queue deleted\")\n",
        "\n",
        "q = Queue()\n",
        "for i in range(0, 10):\n",
        "    q.enqueue(i)\n",
        "\n",
        "q.displayQueue()\n",
        "\n",
        "for i in range(1, 5):\n",
        "    print(f\"Value Dequeued : {q.dequeue()}\")\n",
        "\n",
        "q.displayQueue()"
      ],
      "execution_count": null,
      "outputs": []
    }
  ]
}